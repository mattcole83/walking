{
 "cells": [
  {
   "cell_type": "code",
   "execution_count": 55,
   "metadata": {
    "collapsed": false
   },
   "outputs": [],
   "source": [
    "import pandas as pd\n",
    "import os\n",
    "from geopandas import GeoDataFrame\n",
    "from shapely.geometry import Point\n",
    "import matplotlib.pyplot as plt\n",
    "\n",
    "%matplotlib inline"
   ]
  },
  {
   "cell_type": "code",
   "execution_count": 57,
   "metadata": {
    "collapsed": false
   },
   "outputs": [
    {
     "data": {
      "text/html": [
       "<div>\n",
       "<table border=\"1\" class=\"dataframe\">\n",
       "  <thead>\n",
       "    <tr style=\"text-align: right;\">\n",
       "      <th></th>\n",
       "      <th>CRASH_ID</th>\n",
       "      <th>CRASH_DATE</th>\n",
       "      <th>CRASH_TIME</th>\n",
       "      <th>SEVERITY</th>\n",
       "      <th>CRASH_TYPE</th>\n",
       "      <th>CYCLISTS</th>\n",
       "      <th>CYCLIST_CASUALTIES</th>\n",
       "      <th>REPORTED_LOCATION</th>\n",
       "      <th>LATITUDE</th>\n",
       "      <th>LONGITUDE</th>\n",
       "      <th>LOCATION_1</th>\n",
       "    </tr>\n",
       "  </thead>\n",
       "  <tbody>\n",
       "    <tr>\n",
       "      <th>0</th>\n",
       "      <td>1034637</td>\n",
       "      <td>14 May 2012</td>\n",
       "      <td>12:37</td>\n",
       "      <td>Injury</td>\n",
       "      <td>Collision with parked vehicle</td>\n",
       "      <td>1</td>\n",
       "      <td>1</td>\n",
       "      <td>CAPITAL CIRCLE (COMMONWEALTH/COMMSPARLERM -&gt; C...</td>\n",
       "      <td>-35.304932</td>\n",
       "      <td>149.125419</td>\n",
       "      <td>(-35.304932, 149.125419)</td>\n",
       "    </tr>\n",
       "    <tr>\n",
       "      <th>1</th>\n",
       "      <td>1055714</td>\n",
       "      <td>20 February 2013</td>\n",
       "      <td>07:57</td>\n",
       "      <td>Injury</td>\n",
       "      <td>Right turn into oncoming vehicle</td>\n",
       "      <td>1</td>\n",
       "      <td>1</td>\n",
       "      <td>MORPHETT/NORTHBOURNE INTERSECTION</td>\n",
       "      <td>-35.253575</td>\n",
       "      <td>149.133358</td>\n",
       "      <td>(-35.253575, 149.133358)</td>\n",
       "    </tr>\n",
       "    <tr>\n",
       "      <th>2</th>\n",
       "      <td>1083381</td>\n",
       "      <td>17 March 2014</td>\n",
       "      <td>07:30</td>\n",
       "      <td>Injury</td>\n",
       "      <td>Same direction side swipe</td>\n",
       "      <td>1</td>\n",
       "      <td>1</td>\n",
       "      <td>BUNDA/NORTHBOURNE/RUDD INTERSECTION</td>\n",
       "      <td>-35.277135</td>\n",
       "      <td>149.129453</td>\n",
       "      <td>(-35.277135, 149.129453)</td>\n",
       "    </tr>\n",
       "  </tbody>\n",
       "</table>\n",
       "</div>"
      ],
      "text/plain": [
       "   CRASH_ID        CRASH_DATE CRASH_TIME SEVERITY  \\\n",
       "0   1034637       14 May 2012      12:37   Injury   \n",
       "1   1055714  20 February 2013      07:57   Injury   \n",
       "2   1083381     17 March 2014      07:30   Injury   \n",
       "\n",
       "                         CRASH_TYPE  CYCLISTS  CYCLIST_CASUALTIES  \\\n",
       "0     Collision with parked vehicle         1                   1   \n",
       "1  Right turn into oncoming vehicle         1                   1   \n",
       "2         Same direction side swipe         1                   1   \n",
       "\n",
       "                                   REPORTED_LOCATION   LATITUDE   LONGITUDE  \\\n",
       "0  CAPITAL CIRCLE (COMMONWEALTH/COMMSPARLERM -> C... -35.304932  149.125419   \n",
       "1                  MORPHETT/NORTHBOURNE INTERSECTION -35.253575  149.133358   \n",
       "2                BUNDA/NORTHBOURNE/RUDD INTERSECTION -35.277135  149.129453   \n",
       "\n",
       "                 LOCATION_1  \n",
       "0  (-35.304932, 149.125419)  \n",
       "1  (-35.253575, 149.133358)  \n",
       "2  (-35.277135, 149.129453)  "
      ]
     },
     "execution_count": 57,
     "metadata": {},
     "output_type": "execute_result"
    }
   ],
   "source": [
    "os.chdir('C:\\\\Users\\mattc\\Downloads')\n",
    "df = pd.read_csv('CyclistCrashes.csv')\n",
    "df.head(3)"
   ]
  },
  {
   "cell_type": "code",
   "execution_count": 58,
   "metadata": {
    "collapsed": false
   },
   "outputs": [
    {
     "data": {
      "text/html": [
       "<div>\n",
       "<table border=\"1\" class=\"dataframe\">\n",
       "  <thead>\n",
       "    <tr style=\"text-align: right;\">\n",
       "      <th></th>\n",
       "      <th>CRASH_ID</th>\n",
       "      <th>CRASH_DATE</th>\n",
       "      <th>CRASH_TIME</th>\n",
       "      <th>SEVERITY</th>\n",
       "      <th>CRASH_TYPE</th>\n",
       "      <th>CYCLISTS</th>\n",
       "      <th>CYCLIST_CASUALTIES</th>\n",
       "      <th>REPORTED_LOCATION</th>\n",
       "      <th>LOCATION_1</th>\n",
       "      <th>geometry</th>\n",
       "    </tr>\n",
       "  </thead>\n",
       "  <tbody>\n",
       "    <tr>\n",
       "      <th>0</th>\n",
       "      <td>1034637</td>\n",
       "      <td>14 May 2012</td>\n",
       "      <td>12:37</td>\n",
       "      <td>Injury</td>\n",
       "      <td>Collision with parked vehicle</td>\n",
       "      <td>1</td>\n",
       "      <td>1</td>\n",
       "      <td>CAPITAL CIRCLE (COMMONWEALTH/COMMSPARLERM -&gt; C...</td>\n",
       "      <td>(-35.304932, 149.125419)</td>\n",
       "      <td>POINT (149.125419 -35.304932)</td>\n",
       "    </tr>\n",
       "    <tr>\n",
       "      <th>1</th>\n",
       "      <td>1055714</td>\n",
       "      <td>20 February 2013</td>\n",
       "      <td>07:57</td>\n",
       "      <td>Injury</td>\n",
       "      <td>Right turn into oncoming vehicle</td>\n",
       "      <td>1</td>\n",
       "      <td>1</td>\n",
       "      <td>MORPHETT/NORTHBOURNE INTERSECTION</td>\n",
       "      <td>(-35.253575, 149.133358)</td>\n",
       "      <td>POINT (149.133358 -35.253575)</td>\n",
       "    </tr>\n",
       "    <tr>\n",
       "      <th>2</th>\n",
       "      <td>1083381</td>\n",
       "      <td>17 March 2014</td>\n",
       "      <td>07:30</td>\n",
       "      <td>Injury</td>\n",
       "      <td>Same direction side swipe</td>\n",
       "      <td>1</td>\n",
       "      <td>1</td>\n",
       "      <td>BUNDA/NORTHBOURNE/RUDD INTERSECTION</td>\n",
       "      <td>(-35.277135, 149.129453)</td>\n",
       "      <td>POINT (149.129453 -35.27713499999999)</td>\n",
       "    </tr>\n",
       "    <tr>\n",
       "      <th>3</th>\n",
       "      <td>1025046</td>\n",
       "      <td>04 January 2012</td>\n",
       "      <td>08:50</td>\n",
       "      <td>Property Damage Only</td>\n",
       "      <td>Other - Vehicle to Vehicle</td>\n",
       "      <td>1</td>\n",
       "      <td>0</td>\n",
       "      <td>BARRY/COOYONG/NORTHBOURNE INTERSECTION</td>\n",
       "      <td>(-35.275784, 149.129771)</td>\n",
       "      <td>POINT (149.129771 -35.275784)</td>\n",
       "    </tr>\n",
       "    <tr>\n",
       "      <th>4</th>\n",
       "      <td>1107433</td>\n",
       "      <td>07 April 2015</td>\n",
       "      <td>08:05</td>\n",
       "      <td>Property Damage Only</td>\n",
       "      <td>Other - Vehicle to Vehicle</td>\n",
       "      <td>1</td>\n",
       "      <td>0</td>\n",
       "      <td>NORTHBOURNE AVENUE (MORPHETT -&gt; MURDOCH)</td>\n",
       "      <td>(-35.252917, 149.133364)</td>\n",
       "      <td>POINT (149.133364 -35.252917)</td>\n",
       "    </tr>\n",
       "  </tbody>\n",
       "</table>\n",
       "</div>"
      ],
      "text/plain": [
       "   CRASH_ID        CRASH_DATE CRASH_TIME              SEVERITY  \\\n",
       "0   1034637       14 May 2012      12:37                Injury   \n",
       "1   1055714  20 February 2013      07:57                Injury   \n",
       "2   1083381     17 March 2014      07:30                Injury   \n",
       "3   1025046   04 January 2012      08:50  Property Damage Only   \n",
       "4   1107433     07 April 2015      08:05  Property Damage Only   \n",
       "\n",
       "                         CRASH_TYPE  CYCLISTS  CYCLIST_CASUALTIES  \\\n",
       "0     Collision with parked vehicle         1                   1   \n",
       "1  Right turn into oncoming vehicle         1                   1   \n",
       "2         Same direction side swipe         1                   1   \n",
       "3        Other - Vehicle to Vehicle         1                   0   \n",
       "4        Other - Vehicle to Vehicle         1                   0   \n",
       "\n",
       "                                   REPORTED_LOCATION  \\\n",
       "0  CAPITAL CIRCLE (COMMONWEALTH/COMMSPARLERM -> C...   \n",
       "1                  MORPHETT/NORTHBOURNE INTERSECTION   \n",
       "2                BUNDA/NORTHBOURNE/RUDD INTERSECTION   \n",
       "3             BARRY/COOYONG/NORTHBOURNE INTERSECTION   \n",
       "4           NORTHBOURNE AVENUE (MORPHETT -> MURDOCH)   \n",
       "\n",
       "                 LOCATION_1                               geometry  \n",
       "0  (-35.304932, 149.125419)          POINT (149.125419 -35.304932)  \n",
       "1  (-35.253575, 149.133358)          POINT (149.133358 -35.253575)  \n",
       "2  (-35.277135, 149.129453)  POINT (149.129453 -35.27713499999999)  \n",
       "3  (-35.275784, 149.129771)          POINT (149.129771 -35.275784)  \n",
       "4  (-35.252917, 149.133364)          POINT (149.133364 -35.252917)  "
      ]
     },
     "execution_count": 58,
     "metadata": {},
     "output_type": "execute_result"
    }
   ],
   "source": [
    "geometry = [Point(xy) for xy in zip(df.LONGITUDE, df.LATITUDE)]\n",
    "df = df.drop(['LONGITUDE', 'LATITUDE'], axis=1)\n",
    "crs = {'init': 'epsg:4326'}\n",
    "geo_df = GeoDataFrame(df, crs=crs, geometry=geometry)\n",
    "geo_df.head()"
   ]
  },
  {
   "cell_type": "code",
   "execution_count": 59,
   "metadata": {
    "collapsed": false
   },
   "outputs": [
    {
     "data": {
      "text/plain": [
       "<matplotlib.axes._subplots.AxesSubplot at 0x24574ddd8d0>"
      ]
     },
     "execution_count": 59,
     "metadata": {},
     "output_type": "execute_result"
    },
    {
     "data": {
      "image/png": "[encoded data removed]",
      "text/plain": [
       "<matplotlib.figure.Figure at 0x24578541c88>"
      ]
     },
     "metadata": {},
     "output_type": "display_data"
    }
   ],
   "source": [
    "geo_df.plot()"
   ]
  },
  {
   "cell_type": "code",
   "execution_count": 60,
   "metadata": {
    "collapsed": false
   },
   "outputs": [
    {
     "data": {
      "text/html": [
       "<div>\n",
       "<table border=\"1\" class=\"dataframe\">\n",
       "  <thead>\n",
       "    <tr style=\"text-align: right;\">\n",
       "      <th></th>\n",
       "      <th>CYCLISTS</th>\n",
       "    </tr>\n",
       "    <tr>\n",
       "      <th>REPORTED_LOCATION</th>\n",
       "      <th></th>\n",
       "    </tr>\n",
       "  </thead>\n",
       "  <tbody>\n",
       "    <tr>\n",
       "      <th>A'BECKETT/KNOX (SW) INTERSECTION</th>\n",
       "      <td>1</td>\n",
       "    </tr>\n",
       "    <tr>\n",
       "      <th>ADELAIDE AVENUE (COTTEADELERM -&gt; YARRA GLEN)</th>\n",
       "      <td>2</td>\n",
       "    </tr>\n",
       "    <tr>\n",
       "      <th>ADELAIDE AVENUE (EMPIRE -&gt; ADELWHOPESRM)</th>\n",
       "      <td>1</td>\n",
       "    </tr>\n",
       "    <tr>\n",
       "      <th>ADELAIDE AVENUE (STATNADELWRM -&gt; NATIONAL)</th>\n",
       "      <td>1</td>\n",
       "    </tr>\n",
       "    <tr>\n",
       "      <th>ADELAIDE/ADELEHOPENRM INTERSECTION</th>\n",
       "      <td>1</td>\n",
       "    </tr>\n",
       "  </tbody>\n",
       "</table>\n",
       "</div>"
      ],
      "text/plain": [
       "                                              CYCLISTS\n",
       "REPORTED_LOCATION                                     \n",
       "A'BECKETT/KNOX (SW) INTERSECTION                     1\n",
       "ADELAIDE AVENUE (COTTEADELERM -> YARRA GLEN)         2\n",
       "ADELAIDE AVENUE (EMPIRE -> ADELWHOPESRM)             1\n",
       "ADELAIDE AVENUE (STATNADELWRM -> NATIONAL)           1\n",
       "ADELAIDE/ADELEHOPENRM INTERSECTION                   1"
      ]
     },
     "execution_count": 60,
     "metadata": {},
     "output_type": "execute_result"
    }
   ],
   "source": [
    "tally = pd.DataFrame(df.groupby('REPORTED_LOCATION').count().loc[:,'CYCLISTS'])\n",
    "tally.head()"
   ]
  },
  {
   "cell_type": "code",
   "execution_count": 61,
   "metadata": {
    "collapsed": false
   },
   "outputs": [
    {
     "data": {
      "text/html": [
       "<div>\n",
       "<table border=\"1\" class=\"dataframe\">\n",
       "  <thead>\n",
       "    <tr style=\"text-align: right;\">\n",
       "      <th></th>\n",
       "      <th>REPORTED_LOCATION</th>\n",
       "    </tr>\n",
       "  </thead>\n",
       "  <tbody>\n",
       "    <tr>\n",
       "      <th>0</th>\n",
       "      <td>AINSLIE/LIMESTONE INTERSECTION</td>\n",
       "    </tr>\n",
       "    <tr>\n",
       "      <th>1</th>\n",
       "      <td>ALEXANDRINA/CORONATION/FLYNN INTERSECTION</td>\n",
       "    </tr>\n",
       "    <tr>\n",
       "      <th>2</th>\n",
       "      <td>ANTILL/MOUAT/NORTHBOURNE INTERSECTION</td>\n",
       "    </tr>\n",
       "    <tr>\n",
       "      <th>3</th>\n",
       "      <td>ATHLLON/BEASLEY (SW) INTERSECTION</td>\n",
       "    </tr>\n",
       "    <tr>\n",
       "      <th>4</th>\n",
       "      <td>ATHLLON/DRAKEFORD/ISABELLA INTERSECTION</td>\n",
       "    </tr>\n",
       "  </tbody>\n",
       "</table>\n",
       "</div>"
      ],
      "text/plain": [
       "                           REPORTED_LOCATION\n",
       "0             AINSLIE/LIMESTONE INTERSECTION\n",
       "1  ALEXANDRINA/CORONATION/FLYNN INTERSECTION\n",
       "2      ANTILL/MOUAT/NORTHBOURNE INTERSECTION\n",
       "3          ATHLLON/BEASLEY (SW) INTERSECTION\n",
       "4    ATHLLON/DRAKEFORD/ISABELLA INTERSECTION"
      ]
     },
     "execution_count": 61,
     "metadata": {},
     "output_type": "execute_result"
    }
   ],
   "source": [
    "dangerzones = pd.DataFrame(tally[tally['CYCLISTS'] > 2].index)\n",
    "dangerzones.head()"
   ]
  },
  {
   "cell_type": "code",
   "execution_count": 64,
   "metadata": {
    "collapsed": false
   },
   "outputs": [],
   "source": [
    "test = geo_df['REPORTED_LOCATION'].isin(dangerzones['REPORTED_LOCATION'])\n",
    "\n",
    "\n",
    "dangerzone_hits = geo_df[test]\n"
   ]
  },
  {
   "cell_type": "code",
   "execution_count": 65,
   "metadata": {
    "collapsed": false
   },
   "outputs": [
    {
     "data": {
      "text/plain": [
       "<matplotlib.axes._subplots.AxesSubplot at 0x24579c27dd8>"
      ]
     },
     "execution_count": 65,
     "metadata": {},
     "output_type": "execute_result"
    },
    {
     "data": {
      "image/png": "[encoded data removed]",
      "text/plain": [
       "<matplotlib.figure.Figure at 0x2457887e160>"
      ]
     },
     "metadata": {},
     "output_type": "display_data"
    },
    {
     "data": {
      "image/png": "[encoded data removed]",
      "text/plain": [
       "<matplotlib.figure.Figure at 0x2457892ac18>"
      ]
     },
     "metadata": {},
     "output_type": "display_data"
    }
   ],
   "source": [
    "geo_df.plot()\n",
    "dangerzone_hits.plot()"
   ]
  },
  {
   "cell_type": "code",
   "execution_count": 66,
   "metadata": {
    "collapsed": false
   },
   "outputs": [
    {
     "data": {
      "text/html": [
       "<div>\n",
       "<table border=\"1\" class=\"dataframe\">\n",
       "  <thead>\n",
       "    <tr style=\"text-align: right;\">\n",
       "      <th></th>\n",
       "      <th>REPORTED_LOCATION</th>\n",
       "      <th>geometry</th>\n",
       "    </tr>\n",
       "  </thead>\n",
       "  <tbody>\n",
       "    <tr>\n",
       "      <th>180</th>\n",
       "      <td>AINSLIE/LIMESTONE INTERSECTION</td>\n",
       "      <td>POINT (149.14379 -35.2763)</td>\n",
       "    </tr>\n",
       "    <tr>\n",
       "      <th>1031</th>\n",
       "      <td>AINSLIE/LIMESTONE INTERSECTION</td>\n",
       "      <td>POINT (149.143848 -35.276403)</td>\n",
       "    </tr>\n",
       "    <tr>\n",
       "      <th>494</th>\n",
       "      <td>AINSLIE/LIMESTONE INTERSECTION</td>\n",
       "      <td>POINT (149.143722 -35.276175)</td>\n",
       "    </tr>\n",
       "    <tr>\n",
       "      <th>916</th>\n",
       "      <td>ALEXANDRINA/CORONATION/FLYNN INTERSECTION</td>\n",
       "      <td>POINT (149.121906 -35.300499)</td>\n",
       "    </tr>\n",
       "    <tr>\n",
       "      <th>1092</th>\n",
       "      <td>ALEXANDRINA/CORONATION/FLYNN INTERSECTION</td>\n",
       "      <td>POINT (149.122097 -35.300368)</td>\n",
       "    </tr>\n",
       "  </tbody>\n",
       "</table>\n",
       "</div>"
      ],
      "text/plain": [
       "                              REPORTED_LOCATION                       geometry\n",
       "180              AINSLIE/LIMESTONE INTERSECTION     POINT (149.14379 -35.2763)\n",
       "1031             AINSLIE/LIMESTONE INTERSECTION  POINT (149.143848 -35.276403)\n",
       "494              AINSLIE/LIMESTONE INTERSECTION  POINT (149.143722 -35.276175)\n",
       "916   ALEXANDRINA/CORONATION/FLYNN INTERSECTION  POINT (149.121906 -35.300499)\n",
       "1092  ALEXANDRINA/CORONATION/FLYNN INTERSECTION  POINT (149.122097 -35.300368)"
      ]
     },
     "execution_count": 66,
     "metadata": {},
     "output_type": "execute_result"
    }
   ],
   "source": [
    "polygon_df = dangerzone_hits[['REPORTED_LOCATION','geometry']].sort_values('REPORTED_LOCATION')\n",
    "polygon_df.head()"
   ]
  },
  {
   "cell_type": "code",
   "execution_count": 67,
   "metadata": {
    "collapsed": false
   },
   "outputs": [
    {
     "data": {
      "text/html": [
       "<div>\n",
       "<table border=\"1\" class=\"dataframe\">\n",
       "  <thead>\n",
       "    <tr style=\"text-align: right;\">\n",
       "      <th></th>\n",
       "      <th>REPORTED_LOCATION</th>\n",
       "      <th>geometry</th>\n",
       "    </tr>\n",
       "  </thead>\n",
       "  <tbody>\n",
       "    <tr>\n",
       "      <th>180</th>\n",
       "      <td>AINSLIE/LIMESTONE INTERSECTION</td>\n",
       "      <td>POINT (149.14379 -35.2763)</td>\n",
       "    </tr>\n",
       "    <tr>\n",
       "      <th>1031</th>\n",
       "      <td>AINSLIE/LIMESTONE INTERSECTION</td>\n",
       "      <td>POINT (149.143848 -35.276403)</td>\n",
       "    </tr>\n",
       "    <tr>\n",
       "      <th>494</th>\n",
       "      <td>AINSLIE/LIMESTONE INTERSECTION</td>\n",
       "      <td>POINT (149.143722 -35.276175)</td>\n",
       "    </tr>\n",
       "    <tr>\n",
       "      <th>916</th>\n",
       "      <td>ALEXANDRINA/CORONATION/FLYNN INTERSECTION</td>\n",
       "      <td>POINT (149.121906 -35.300499)</td>\n",
       "    </tr>\n",
       "    <tr>\n",
       "      <th>1092</th>\n",
       "      <td>ALEXANDRINA/CORONATION/FLYNN INTERSECTION</td>\n",
       "      <td>POINT (149.122097 -35.300368)</td>\n",
       "    </tr>\n",
       "  </tbody>\n",
       "</table>\n",
       "</div>"
      ],
      "text/plain": [
       "                              REPORTED_LOCATION                       geometry\n",
       "180              AINSLIE/LIMESTONE INTERSECTION     POINT (149.14379 -35.2763)\n",
       "1031             AINSLIE/LIMESTONE INTERSECTION  POINT (149.143848 -35.276403)\n",
       "494              AINSLIE/LIMESTONE INTERSECTION  POINT (149.143722 -35.276175)\n",
       "916   ALEXANDRINA/CORONATION/FLYNN INTERSECTION  POINT (149.121906 -35.300499)\n",
       "1092  ALEXANDRINA/CORONATION/FLYNN INTERSECTION  POINT (149.122097 -35.300368)"
      ]
     },
     "execution_count": 67,
     "metadata": {},
     "output_type": "execute_result"
    }
   ],
   "source": [
    "polygon_df.head()"
   ]
  },
  {
   "cell_type": "code",
   "execution_count": 68,
   "metadata": {
    "collapsed": false
   },
   "outputs": [
    {
     "data": {
      "text/html": [
       "<div>\n",
       "<table border=\"1\" class=\"dataframe\">\n",
       "  <thead>\n",
       "    <tr style=\"text-align: right;\">\n",
       "      <th></th>\n",
       "      <th>geometry</th>\n",
       "    </tr>\n",
       "    <tr>\n",
       "      <th>REPORTED_LOCATION</th>\n",
       "      <th></th>\n",
       "    </tr>\n",
       "  </thead>\n",
       "  <tbody>\n",
       "    <tr>\n",
       "      <th>AINSLIE/LIMESTONE INTERSECTION</th>\n",
       "      <td>(POINT (149.143722 -35.276175), POINT (149.143...</td>\n",
       "    </tr>\n",
       "    <tr>\n",
       "      <th>ALEXANDRINA/CORONATION/FLYNN INTERSECTION</th>\n",
       "      <td>(POINT (149.121906 -35.300499), POINT (149.122...</td>\n",
       "    </tr>\n",
       "    <tr>\n",
       "      <th>ANTILL/MOUAT/NORTHBOURNE INTERSECTION</th>\n",
       "      <td>(POINT (149.134102 -35.248345), POINT (149.134...</td>\n",
       "    </tr>\n",
       "    <tr>\n",
       "      <th>ATHLLON/BEASLEY (SW) INTERSECTION</th>\n",
       "      <td>POINT (149.092895 -35.371915)</td>\n",
       "    </tr>\n",
       "    <tr>\n",
       "      <th>ATHLLON/DRAKEFORD/ISABELLA INTERSECTION</th>\n",
       "      <td>(POINT (149.07791 -35.423957), POINT (149.0779...</td>\n",
       "    </tr>\n",
       "    <tr>\n",
       "      <th>ATHLLON/SULWOOD INTERSECTION</th>\n",
       "      <td>(POINT (149.092808 -35.384207), POINT (149.093...</td>\n",
       "    </tr>\n",
       "    <tr>\n",
       "      <th>BARRY/BOLDREWOOD INTERSECTION</th>\n",
       "      <td>(POINT (149.120268 -35.27301), POINT (149.1203...</td>\n",
       "    </tr>\n",
       "    <tr>\n",
       "      <th>BARRY/COOYONG/NORTHBOURNE INTERSECTION</th>\n",
       "      <td>(POINT (149.129487 -35.275753), POINT (149.129...</td>\n",
       "    </tr>\n",
       "    <tr>\n",
       "      <th>BARRY/MARCUS CLARKE INTERSECTION</th>\n",
       "      <td>(POINT (149.126717 -35.275452), POINT (149.126...</td>\n",
       "    </tr>\n",
       "    <tr>\n",
       "      <th>BARRY/MCCAUGHEY/NORTH INTERSECTION</th>\n",
       "      <td>(POINT (149.121763 -35.273574), POINT (149.121...</td>\n",
       "    </tr>\n",
       "  </tbody>\n",
       "</table>\n",
       "</div>"
      ],
      "text/plain": [
       "                                                                                    geometry\n",
       "REPORTED_LOCATION                                                                           \n",
       "AINSLIE/LIMESTONE INTERSECTION             (POINT (149.143722 -35.276175), POINT (149.143...\n",
       "ALEXANDRINA/CORONATION/FLYNN INTERSECTION  (POINT (149.121906 -35.300499), POINT (149.122...\n",
       "ANTILL/MOUAT/NORTHBOURNE INTERSECTION      (POINT (149.134102 -35.248345), POINT (149.134...\n",
       "ATHLLON/BEASLEY (SW) INTERSECTION                              POINT (149.092895 -35.371915)\n",
       "ATHLLON/DRAKEFORD/ISABELLA INTERSECTION    (POINT (149.07791 -35.423957), POINT (149.0779...\n",
       "ATHLLON/SULWOOD INTERSECTION               (POINT (149.092808 -35.384207), POINT (149.093...\n",
       "BARRY/BOLDREWOOD INTERSECTION              (POINT (149.120268 -35.27301), POINT (149.1203...\n",
       "BARRY/COOYONG/NORTHBOURNE INTERSECTION     (POINT (149.129487 -35.275753), POINT (149.129...\n",
       "BARRY/MARCUS CLARKE INTERSECTION           (POINT (149.126717 -35.275452), POINT (149.126...\n",
       "BARRY/MCCAUGHEY/NORTH INTERSECTION         (POINT (149.121763 -35.273574), POINT (149.121..."
      ]
     },
     "execution_count": 68,
     "metadata": {},
     "output_type": "execute_result"
    }
   ],
   "source": [
    "# this will put each points in the geometry\n",
    "\n",
    "dissolved = polygon_df.dissolve('REPORTED_LOCATION')\n",
    "dissolved.head(10)"
   ]
  },
  {
   "cell_type": "code",
   "execution_count": 69,
   "metadata": {
    "collapsed": false
   },
   "outputs": [
    {
     "data": {
      "text/plain": [
       "REPORTED_LOCATION\n",
       "AINSLIE/LIMESTONE INTERSECTION               POLYGON ((149.143722 -35.276403, 149.143848 -3...\n",
       "ALEXANDRINA/CORONATION/FLYNN INTERSECTION    POLYGON ((149.121906 -35.300644, 149.122262 -3...\n",
       "ANTILL/MOUAT/NORTHBOURNE INTERSECTION        POLYGON ((149.134102 -35.248345, 149.134301 -3...\n",
       "ATHLLON/BEASLEY (SW) INTERSECTION                                POINT (149.092895 -35.371915)\n",
       "ATHLLON/DRAKEFORD/ISABELLA INTERSECTION      POLYGON ((149.07791 -35.424077, 149.078527 -35...\n",
       "ATHLLON/SULWOOD INTERSECTION                 POLYGON ((149.092808 -35.384625, 149.093074 -3...\n",
       "BARRY/BOLDREWOOD INTERSECTION                POLYGON ((149.120268 -35.27301, 149.120306 -35...\n",
       "BARRY/COOYONG/NORTHBOURNE INTERSECTION       POLYGON ((149.129487 -35.275854, 149.129887 -3...\n",
       "BARRY/MARCUS CLARKE INTERSECTION             POLYGON ((149.126717 -35.275627, 149.1268 -35....\n",
       "BARRY/MCCAUGHEY/NORTH INTERSECTION           POLYGON ((149.121763 -35.273574, 149.121966 -3...\n",
       "dtype: object"
      ]
     },
     "execution_count": 69,
     "metadata": {},
     "output_type": "execute_result"
    }
   ],
   "source": [
    "# this will provided the minimal N-S, E-W rectangle that contains all the points\n",
    "\n",
    "enveloped = dissolved.envelope\n",
    "enveloped.head(10)"
   ]
  },
  {
   "cell_type": "code",
   "execution_count": 70,
   "metadata": {
    "collapsed": false
   },
   "outputs": [
    {
     "data": {
      "text/plain": [
       "<matplotlib.axes._subplots.AxesSubplot at 0x2457a31f470>"
      ]
     },
     "execution_count": 70,
     "metadata": {},
     "output_type": "execute_result"
    },
    {
     "data": {
      "image/png": "[encoded data removed]",
      "text/plain": [
       "<matplotlib.figure.Figure at 0x2457a2f86d8>"
      ]
     },
     "metadata": {},
     "output_type": "display_data"
    }
   ],
   "source": [
    "enveloped.plot()"
   ]
  },
  {
   "cell_type": "code",
   "execution_count": 52,
   "metadata": {
    "collapsed": true
   },
   "outputs": [],
   "source": [
    "test = GeoDataFrame(enveloped)"
   ]
  },
  {
   "cell_type": "code",
   "execution_count": 54,
   "metadata": {
    "collapsed": false
   },
   "outputs": [
    {
     "data": {
      "text/plain": [
       "geopandas.geodataframe.GeoDataFrame"
      ]
     },
     "execution_count": 54,
     "metadata": {},
     "output_type": "execute_result"
    }
   ],
   "source": [
    "type(test)"
   ]
  },
  {
   "cell_type": "code",
   "execution_count": null,
   "metadata": {
    "collapsed": true
   },
   "outputs": [],
   "source": []
  }
 ],
 "metadata": {
  "kernelspec": {
   "display_name": "Python 3",
   "language": "python",
   "name": "python3"
  },
  "language_info": {
   "codemirror_mode": {
    "name": "ipython",
    "version": 3
   },
   "file_extension": ".py",
   "mimetype": "text/x-python",
   "name": "python",
   "nbconvert_exporter": "python",
   "pygments_lexer": "ipython3",
   "version": "3.6.0"
  }
 },
 "nbformat": 4,
 "nbformat_minor": 2
}
